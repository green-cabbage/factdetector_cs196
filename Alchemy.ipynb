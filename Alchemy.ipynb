{
 "cells": [
  {
   "cell_type": "code",
   "execution_count": 2,
   "metadata": {
    "collapsed": false
   },
   "outputs": [],
   "source": [
    "import json\n",
    "from watson_developer_cloud import AlchemyLanguageV1\n",
    "keyList=['cb738b85c0e2d0094894bcfe8c73d12d73543c35','af89b7da4bab4becaad685eaff5e2b90','b4632297-1c70-4de2-821b-95d2c3245d01','49662623-dd08-4f6e-871b-af1dec4cdaa1','a249944a-48e3-44cc-b481-248f7fa1e2d7']\n",
    "keyUse=[True,False,False,False,False]\n",
    "currentKey=0;\n",
    "maxKey=5\n",
    "#api_key=keyList[0]\n",
    "alchemy_language = AlchemyLanguageV1(api_key='cb738b85c0e2d0094894bcfe8c73d12d73543c35')\n",
    "from urllib.request import urlopen\n",
    "import re"
   ]
  },
  {
   "cell_type": "code",
   "execution_count": 3,
   "metadata": {
    "collapsed": false
   },
   "outputs": [],
   "source": [
    "def targeted_document_analysis(url_input, target_words):\n",
    "    if (alchemy_language.targeted_sentiment(url=url_input, targets=target_words)[\"results\"][0]['sentiment']['type'])=='neutral':\n",
    "        return 0.0\n",
    "    else:\n",
    "        return (alchemy_language.targeted_sentiment(url=url_input, targets=target_words)[\"results\"][0]['sentiment']['score'])\n",
    "    pass"
   ]
  },
  {
   "cell_type": "code",
   "execution_count": 4,
   "metadata": {
    "collapsed": false
   },
   "outputs": [],
   "source": [
    "def document_sentiment(url_input):\n",
    "    if (alchemy_language.sentiment(url=url_input)['docSentiment']['score'])=='neutral':\n",
    "        return 0.0\n",
    "    else:\n",
    "        return(alchemy_language.sentiment(url=url_input)['docSentiment']['score'])"
   ]
  },
  {
   "cell_type": "code",
   "execution_count": 5,
   "metadata": {
    "collapsed": false
   },
   "outputs": [],
   "source": [
    "def targeted_sentence_analysis(text_input, target_words):\n",
    "    if (alchemy_language.targeted_sentiment(text=text_input, targets=target_words) [\"results\"][0]['sentiment']['type'])=='neutral':\n",
    "        return 0.0\n",
    "    else:\n",
    "        return(alchemy_language.targeted_sentiment(text=text_input, targets=target_words) [\"results\"][0]['sentiment']['score'])\n",
    "    pass"
   ]
  },
  {
   "cell_type": "code",
   "execution_count": 6,
   "metadata": {
    "collapsed": false
   },
   "outputs": [],
   "source": [
    "def sentence_sentiment(text_input):\n",
    "    \n",
    "    if (alchemy_language.sentiment(text=text_input)['docSentiment']['type'])=='neutral':\n",
    "        return 0.0\n",
    "    else:\n",
    "        return(alchemy_language.sentiment(text=text_input)['docSentiment']['score'])\n",
    "    "
   ]
  },
  {
   "cell_type": "code",
   "execution_count": 7,
   "metadata": {
    "collapsed": false
   },
   "outputs": [],
   "source": [
    "def listOfSentences (url,word):\n",
    "    HTMl = urllib.request.urlopen(url).read()\n",
    "    return re.findall(r\"([^>=]*?word[^.<]*\\.)\",HTML)"
   ]
  },
  {
   "cell_type": "code",
   "execution_count": 8,
   "metadata": {
    "collapsed": true
   },
   "outputs": [],
   "source": [
    "def compare_documents(array):\n",
    "    prev = document_sentiment(array[0])\n",
    "    for i in range (0,len(array)):\n",
    "        temp = document_sentiment(array[i])\n",
    "        if temp*prev<0:\n",
    "            break\n",
    "    if temp*prev<0:\n",
    "        return False\n",
    "    else:\n",
    "        return True"
   ]
  },
  {
   "cell_type": "code",
   "execution_count": 9,
   "metadata": {
    "collapsed": false
   },
   "outputs": [],
   "source": [
    "def compare_sentences(array):\n",
    "    prev = float(sentence_sentiment(array[0]))\n",
    "    for i in range (0,len(array)):\n",
    "        temp = float(sentence_sentiment(array[i]))\n",
    "        if temp+prev<0:\n",
    "            break\n",
    "    if temp+prev<0:\n",
    "        return False\n",
    "    else:\n",
    "        return True"
   ]
  },
  {
   "cell_type": "code",
   "execution_count": 10,
   "metadata": {
    "collapsed": false
   },
   "outputs": [],
   "source": [
    "def emotion_analysis(urlInput):\n",
    "    return alchemy_language.emotion(url=urlInput)['docEmotions']"
   ]
  },
  {
   "cell_type": "code",
   "execution_count": 11,
   "metadata": {
    "collapsed": false
   },
   "outputs": [],
   "source": [
    "def compare_similar_sentences(subsequence ):\n",
    "    retArray=[]\n",
    "    retArray.append([])\n",
    "    retArray.append([])\n",
    "    #print (retArray)\n",
    "    retval=sentence_sentiment(subsequence[0])\n",
    "    if (retval==None):\n",
    "        return None\n",
    "    prev = float(retval)\n",
    "    for i in range (1,len(subsequence)):\n",
    "        temp = float(sentence_sentiment(subsequence[i]))\n",
    "        \n",
    "        if temp*prev <= 0:\n",
    "            #print(\"Flip Flopped\")\n",
    "            retArray[0].append(subsequence[i])\n",
    "        else:\n",
    "            #print(\"Didn't Flop Flop\")\n",
    "            retArray[1].append(subsequence[i])\n",
    "\n",
    "\n",
    "    return retArray\n",
    "#   Look through the stence array\n",
    "#   put all the words in sentence into a dicitonary\n",
    "#\n",
    "#\n",
    "#\n",
    "def dumbWord(word):\n",
    "    dumbWords= [\"and\", \"or\", \"but\", \"nor\", \"so\", \"for\", \"yet\", \"after\", \"although\", \\\n",
    "    \"as\", \"as\", \"if\", \"as\", \"long\", \"as\", \"because\", \"before\", \"even\", \"if\", \"even\", \\\n",
    "    \"though\", \"once\", \"since\", \"so\", \"that\", \"though\", \"till\", \"unless\", \"until\", \"what\", \\\n",
    "    \"when\", \"whenever\", \"wherever\", \"whether\", \"while\"]\n",
    "\n",
    "    if (word.lower() in dumbWords):\n",
    "        return True\n",
    "\n",
    "    return False\n",
    "\n",
    "THRESHOLD = 3\n",
    "MIN_WORDS = 3\n",
    "SIMILARITY = .5\n",
    "\n",
    "\n",
    "\n",
    "def mostSimilarTo(sentence, sentenceArray):\n",
    "    similarSentences = []\n",
    "    sentenceDict = {}\n",
    "    notDumbWords=0\n",
    "    for word in sentence.split():\n",
    "        #print (word)\n",
    "        word = word.lower()\n",
    "        if not dumbWord(word):\n",
    "            notDumbWords += 1\n",
    "            if word not in sentenceDict:\n",
    "                sentenceDict[word]=1\n",
    "            else:    \n",
    "                sentenceDict[word] += 1\n",
    "               \n",
    "    \n",
    "\n",
    "    for potentialSentence in sentenceArray:\n",
    "        sameWords=0\n",
    "        wordCount =0\n",
    "        if potentialSentence != sentence:\n",
    "            \n",
    "            for word in potentialSentence.split() :\n",
    "                word = word.lower()\n",
    "                if not dumbWord(word):\n",
    "                    wordCount+=1\n",
    "                    if word  in sentenceDict:\n",
    "                        sameWords+=1\n",
    "\n",
    "       # print (sameWords)\n",
    "       # print (wordCount)\n",
    "        if(wordCount!=0):\n",
    "            if sameWords >=wordCount*SIMILARITY:\n",
    "                similarSentences.append(potentialSentence)\n",
    "\n",
    "    return similarSentences\n",
    "\n",
    "\n",
    "def flipFlopped(sentenceArray):\n",
    "    retArr=[]\n",
    "    for sentence in sentenceArray:\n",
    "        #print (sentence)\n",
    "        if len(sentence.split()) >= MIN_WORDS :\n",
    "            \n",
    "            retSentenceArray = mostSimilarTo(sentence, sentenceArray)\n",
    "            print (\"The current sentence is: \"+sentence+\" and it is most similar to: \",end=\"\")\n",
    "            print (retSentenceArray)\n",
    "            print (\"\\n\")\n",
    "            if(  len(retSentenceArray) != 0):\n",
    "              \n",
    "                retSentenceArray.insert(0, sentence)\n",
    "                print(retSentenceArray)\n",
    "                retStatus = compare_similar_sentences(retSentenceArray)\n",
    "                if (retStatus==None ):\n",
    "                    return None\n",
    "                retArr.append(sentence)\n",
    "                retArr.append(retStatus)\n",
    "            \n",
    "    return retArr"
   ]
  },
  {
   "cell_type": "code",
   "execution_count": 125,
   "metadata": {
    "collapsed": false
   },
   "outputs": [
    {
     "name": "stdout",
     "output_type": "stream",
     "text": [
      "The current sentence is: I hate war war is bad war is not good and it is most similar to: ['I love war war is okay war is fun', 'War sounds good is good great war']\n",
      "\n",
      "\n",
      "['I hate war war is bad war is not good', 'I love war war is okay war is fun', 'War sounds good is good great war']\n",
      "The current sentence is: non no no yes hello hi there and it is most similar to: []\n",
      "\n",
      "\n",
      "The current sentence is: These are not different and cool and it is most similar to: ['these  are different and cool']\n",
      "\n",
      "\n",
      "['These are not different and cool', 'these  are different and cool']\n",
      "The current sentence is: these  are different and cool and it is most similar to: ['These are not different and cool']\n",
      "\n",
      "\n",
      "['these  are different and cool', 'These are not different and cool']\n",
      "The current sentence is: I love war war is okay war is fun and it is most similar to: ['I hate war war is bad war is not good']\n",
      "\n",
      "\n",
      "['I love war war is okay war is fun', 'I hate war war is bad war is not good']\n",
      "The current sentence is: War sounds good is good great war and it is most similar to: ['I hate war war is bad war is not good', 'I love war war is okay war is fun']\n",
      "\n",
      "\n",
      "['War sounds good is good great war', 'I hate war war is bad war is not good', 'I love war war is okay war is fun']\n"
     ]
    },
    {
     "data": {
      "text/plain": [
       "['I hate war war is bad war is not good',\n",
       " [['I love war war is okay war is fun', 'War sounds good is good great war'],\n",
       "  []],\n",
       " 'These are not different and cool',\n",
       " [['these  are different and cool'], []],\n",
       " 'these  are different and cool',\n",
       " [['These are not different and cool'], []],\n",
       " 'I love war war is okay war is fun',\n",
       " [['I hate war war is bad war is not good'], []],\n",
       " 'War sounds good is good great war',\n",
       " [['I hate war war is bad war is not good'],\n",
       "  ['I love war war is okay war is fun']]]"
      ]
     },
     "execution_count": 125,
     "metadata": {},
     "output_type": "execute_result"
    }
   ],
   "source": [
    "flipFlopped(['I hate war war is bad war is not good','non no no yes hello hi there', 'These are not different and cool', 'these  are different and cool','I love war war is okay war is fun', 'War sounds good is good great war'])\n",
    "\n",
    "\n",
    "#flipFlopped(['The sky is blue today', 'the sky is green today'])\n",
    "\n",
    "\n",
    "\n",
    "#flipFlopped( ['Torture works', 'OK, folks', 'You know, I have these guys -- \"Torture doesn\\'t work', '-- believe me, it works', 'And waterboarding is your minor form', \"Some people say it's not actually torture\", \"Let's assume it is\", 'But they asked me the question, What do you think of waterboarding', 'Absolutely fine', 'But we should go much stronger than waterboarding', \"That's the way I feel\", \"They're chopping off heads\", \"Believe me, we should go much stronger, because our country's in trouble\", \"We're in danger\", 'We have people that want to do really bad things', 'Remember the power of weaponry', \"This isn't 100 years ago where we fight hand to hand combat\", 'This is weapons that are so destructive -- so destructive -- that the world could end', 'We have to be very strong, we have to be very vigilant, we have to be very tough', \"Waterboarding is fine, but it's not nearly tough enough, OK\", '\\n\\nOn the issue of torture, Mr', 'Trump suggested he had changed his mind about the value of waterboarding after talking with James N', 'Mattis, a retired Marine Corps general, who headed the United States Central Command', '\\n\\n“He said, ‘I’ve never found it to be useful,’” Mr', 'Trump said', 'He added that Mr', 'Mattis found more value in building trust and rewarding cooperation with terrorism suspects: “‘Give me a pack of cigarettes and a couple of beers, and I’ll do better', '’”\\n\\n“I was very impressed by that answer,” Mr', 'Trump said', '\\n\\nTorture, he said, is “not going to make the kind of a difference that a lot of people are thinking', '”'])\n",
    "\n",
    "\n",
    "\n"
   ]
  },
  {
   "cell_type": "code",
   "execution_count": 12,
   "metadata": {
    "collapsed": false
   },
   "outputs": [
    {
     "name": "stdout",
     "output_type": "stream",
     "text": [
      "['Torture works', 'OK, folks', 'You know, I have these guys -- \"Torture doesn\\'t work', '-- believe me, it works', 'And waterboarding is your minor form', \"Some people say it's not actually torture\", \"Let's assume it is\", 'But they asked me the question, What do you think of waterboarding', 'Absolutely fine', 'But we should go much stronger than waterboarding', \"That's the way I feel\", \"They're chopping off heads\", \"Believe me, we should go much stronger, because our country's in trouble\", \"We're in danger\", 'We have people that want to do really bad things', 'Remember the power of weaponry', \"This isn't 100 years ago where we fight hand to hand combat\", 'This is weapons that are so destructive -- so destructive -- that the world could end', 'We have to be very strong, we have to be very vigilant, we have to be very tough', \"Waterboarding is fine, but it's not nearly tough enough, OK\", '\\n\\nOn the issue of torture, Mr', 'Trump suggested he had changed his mind about the value of waterboarding after talking with James N', 'Mattis, a retired Marine Corps general, who headed the United States Central Command', '\\n\\n“He said, ‘I’ve never found it to be useful,’” Mr', 'Trump said', 'He added that Mr', 'Mattis found more value in building trust and rewarding cooperation with terrorism suspects: “‘Give me a pack of cigarettes and a couple of beers, and I’ll do better', '’”\\n\\n“I was very impressed by that answer,” Mr', 'Trump said', '\\n\\nTorture, he said, is “not going to make the kind of a difference that a lot of people are thinking', '”']\n",
      "The current sentence is: You know, I have these guys -- \"Torture doesn't work and it is most similar to: []\n",
      "\n",
      "\n",
      "The current sentence is: -- believe me, it works and it is most similar to: ['Torture works']\n",
      "\n",
      "\n",
      "['-- believe me, it works', 'Torture works']\n",
      "The current sentence is: And waterboarding is your minor form and it is most similar to: []\n",
      "\n",
      "\n",
      "The current sentence is: Some people say it's not actually torture and it is most similar to: ['Torture works']\n",
      "\n",
      "\n",
      "[\"Some people say it's not actually torture\", 'Torture works']\n",
      "The current sentence is: Let's assume it is and it is most similar to: []\n",
      "\n",
      "\n",
      "The current sentence is: But they asked me the question, What do you think of waterboarding and it is most similar to: []\n",
      "\n",
      "\n",
      "The current sentence is: But we should go much stronger than waterboarding and it is most similar to: []\n",
      "\n",
      "\n",
      "The current sentence is: That's the way I feel and it is most similar to: []\n",
      "\n",
      "\n",
      "The current sentence is: They're chopping off heads and it is most similar to: []\n",
      "\n",
      "\n",
      "The current sentence is: Believe me, we should go much stronger, because our country's in trouble and it is most similar to: ['But we should go much stronger than waterboarding']\n",
      "\n",
      "\n",
      "[\"Believe me, we should go much stronger, because our country's in trouble\", 'But we should go much stronger than waterboarding']\n",
      "The current sentence is: We're in danger and it is most similar to: []\n",
      "\n",
      "\n",
      "The current sentence is: We have people that want to do really bad things and it is most similar to: ['We have to be very strong, we have to be very vigilant, we have to be very tough']\n",
      "\n",
      "\n",
      "['We have people that want to do really bad things', 'We have to be very strong, we have to be very vigilant, we have to be very tough']\n",
      "The current sentence is: Remember the power of weaponry and it is most similar to: []\n",
      "\n",
      "\n",
      "The current sentence is: This isn't 100 years ago where we fight hand to hand combat and it is most similar to: []\n",
      "\n",
      "\n",
      "The current sentence is: This is weapons that are so destructive -- so destructive -- that the world could end and it is most similar to: []\n",
      "\n",
      "\n",
      "The current sentence is: We have to be very strong, we have to be very vigilant, we have to be very tough and it is most similar to: []\n",
      "\n",
      "\n",
      "The current sentence is: Waterboarding is fine, but it's not nearly tough enough, OK and it is most similar to: []\n",
      "\n",
      "\n",
      "The current sentence is: \n",
      "\n",
      "On the issue of torture, Mr and it is most similar to: []\n",
      "\n",
      "\n",
      "The current sentence is: Trump suggested he had changed his mind about the value of waterboarding after talking with James N and it is most similar to: ['Trump said', 'Trump said']\n",
      "\n",
      "\n",
      "['Trump suggested he had changed his mind about the value of waterboarding after talking with James N', 'Trump said', 'Trump said']\n",
      "The current sentence is: Mattis, a retired Marine Corps general, who headed the United States Central Command and it is most similar to: []\n",
      "\n",
      "\n",
      "The current sentence is: \n",
      "\n",
      "“He said, ‘I’ve never found it to be useful,’” Mr and it is most similar to: []\n",
      "\n",
      "\n",
      "The current sentence is: He added that Mr and it is most similar to: []\n",
      "\n",
      "\n",
      "The current sentence is: Mattis found more value in building trust and rewarding cooperation with terrorism suspects: “‘Give me a pack of cigarettes and a couple of beers, and I’ll do better and it is most similar to: []\n",
      "\n",
      "\n",
      "The current sentence is: ’”\n",
      "\n",
      "“I was very impressed by that answer,” Mr and it is most similar to: []\n",
      "\n",
      "\n",
      "The current sentence is: \n",
      "\n",
      "Torture, he said, is “not going to make the kind of a difference that a lot of people are thinking and it is most similar to: ['\\n\\nOn the issue of torture, Mr']\n",
      "\n",
      "\n",
      "['\\n\\nTorture, he said, is “not going to make the kind of a difference that a lot of people are thinking', '\\n\\nOn the issue of torture, Mr']\n",
      "['-- believe me, it works', [['Torture works'], []], \"Some people say it's not actually torture\", [[], ['Torture works']], \"Believe me, we should go much stronger, because our country's in trouble\", [[], ['But we should go much stronger than waterboarding']], 'We have people that want to do really bad things', [['We have to be very strong, we have to be very vigilant, we have to be very tough'], []], 'Trump suggested he had changed his mind about the value of waterboarding after talking with James N', [['Trump said', 'Trump said'], []], '\\n\\nTorture, he said, is “not going to make the kind of a difference that a lot of people are thinking', [[], ['\\n\\nOn the issue of torture, Mr']]]\n",
      "Original sentence: -- believe me, it works\n",
      "List of Flipflops: -\n",
      "List of Consitent statements: -\n",
      "\n",
      "\n",
      "Original sentence: [['Torture works'], []]\n",
      "List of Flipflops: ['Torture works']\n",
      "List of Consitent statements: []\n",
      "\n",
      "\n",
      "Original sentence: Some people say it's not actually torture\n",
      "List of Flipflops: S\n",
      "List of Consitent statements: o\n",
      "\n",
      "\n",
      "Original sentence: [[], ['Torture works']]\n",
      "List of Flipflops: []\n",
      "List of Consitent statements: ['Torture works']\n",
      "\n",
      "\n",
      "Original sentence: Believe me, we should go much stronger, because our country's in trouble\n",
      "List of Flipflops: B\n",
      "List of Consitent statements: e\n",
      "\n",
      "\n",
      "Original sentence: [[], ['But we should go much stronger than waterboarding']]\n",
      "List of Flipflops: []\n",
      "List of Consitent statements: ['But we should go much stronger than waterboarding']\n",
      "\n",
      "\n",
      "Original sentence: We have people that want to do really bad things\n",
      "List of Flipflops: W\n",
      "List of Consitent statements: e\n",
      "\n",
      "\n",
      "Original sentence: [['We have to be very strong, we have to be very vigilant, we have to be very tough'], []]\n",
      "List of Flipflops: ['We have to be very strong, we have to be very vigilant, we have to be very tough']\n",
      "List of Consitent statements: []\n",
      "\n",
      "\n",
      "Original sentence: Trump suggested he had changed his mind about the value of waterboarding after talking with James N\n",
      "List of Flipflops: T\n",
      "List of Consitent statements: r\n",
      "\n",
      "\n",
      "Original sentence: [['Trump said', 'Trump said'], []]\n",
      "List of Flipflops: ['Trump said', 'Trump said']\n",
      "List of Consitent statements: []\n",
      "\n",
      "\n",
      "Original sentence: \n",
      "\n",
      "Torture, he said, is “not going to make the kind of a difference that a lot of people are thinking\n",
      "List of Flipflops: \n",
      "\n",
      "List of Consitent statements: \n",
      "\n",
      "\n",
      "\n",
      "Original sentence: [[], ['\\n\\nOn the issue of torture, Mr']]\n",
      "List of Flipflops: []\n",
      "List of Consitent statements: ['\\n\\nOn the issue of torture, Mr']\n",
      "\n",
      "\n"
     ]
    }
   ],
   "source": [
    "import re\n",
    "\n",
    "def fileio( filename ):\n",
    "    text= None\n",
    "    with open(filename) as file:\n",
    "        text=file.read()\n",
    "\n",
    "    sentences = re.split(r' *[\\.\\?!][\\'\"\\)\\]]* *', text)\n",
    "\n",
    "    print (sentences)\n",
    "    retArray = flipFlopped(sentences)\n",
    "    \n",
    "    print (retArray)\n",
    "    for sentence in retArray:\n",
    "        print (\"Original sentence:\", end=\" \")\n",
    "        print (sentence)\n",
    "        print (\"List of Flipflops: \",end=\"\") \n",
    "        print (sentence[0])\n",
    "        print (\"List of Consitent statements: \",end=\"\") \n",
    "        print (sentence[1])\n",
    "        print ('\\n')\n",
    "\n",
    "    \n",
    "    \n",
    "\n",
    "\n",
    "def stdio( filename ):\n",
    "    return\n",
    "\n",
    "    # open the file\n",
    "    # put it into a list of setneces \n",
    "\n",
    "    # retArray = flipFlopped(sentenceArray)\n",
    "\n",
    "\n",
    "    # print retArray\n",
    "\n",
    "fileio(\"test2.txt\")"
   ]
  },
  {
   "cell_type": "code",
   "execution_count": null,
   "metadata": {
    "collapsed": true
   },
   "outputs": [],
   "source": [
    "except:\n",
    "        found=False\n",
    "        newKey=-1\n",
    "        for i in range(currentKey,maxKey):\n",
    "            if(keyUse[i] == False):\n",
    "                found=True\n",
    "                keyUse[i]=True\n",
    "                newKey=i\n",
    "                break\n",
    "        \n",
    "        if (not found) :\n",
    "            print(\"Credentials, over used for the day, SORRY!\")\n",
    "            return None\n",
    "        else:\n",
    "            alchemy_language = AlchemyLanguageV1(api_key=keyList[newKey])\n",
    "            sentence_sentiment(text_input)"
   ]
  },
  {
   "cell_type": "code",
   "execution_count": 32,
   "metadata": {
    "collapsed": false
   },
   "outputs": [],
   "source": [
    "import nltk\n",
    "import gensim"
   ]
  },
  {
   "cell_type": "code",
   "execution_count": 1,
   "metadata": {
    "collapsed": false
   },
   "outputs": [
    {
     "ename": "NameError",
     "evalue": "name 'trained_model' is not defined",
     "output_type": "error",
     "traceback": [
      "\u001b[0;31m---------------------------------------------------------------------------\u001b[0m",
      "\u001b[0;31mNameError\u001b[0m                                 Traceback (most recent call last)",
      "\u001b[0;32m<ipython-input-1-1d058059e15d>\u001b[0m in \u001b[0;36m<module>\u001b[0;34m()\u001b[0m\n\u001b[0;32m----> 1\u001b[0;31m \u001b[0mtrained_model\u001b[0m\u001b[0;34m.\u001b[0m\u001b[0msimilarity\u001b[0m\u001b[0;34m(\u001b[0m\u001b[0;34m'woman'\u001b[0m\u001b[0;34m,\u001b[0m \u001b[0;34m'man'\u001b[0m\u001b[0;34m)\u001b[0m\u001b[0;34m\u001b[0m\u001b[0m\n\u001b[0m\u001b[1;32m      2\u001b[0m \u001b[0;36m0.73723527\u001b[0m\u001b[0;34m\u001b[0m\u001b[0m\n",
      "\u001b[0;31mNameError\u001b[0m: name 'trained_model' is not defined"
     ]
    }
   ],
   "source": [
    "trained_model.similarity('woman', 'man') \n",
    "0.73723527"
   ]
  },
  {
   "cell_type": "code",
   "execution_count": null,
   "metadata": {
    "collapsed": true
   },
   "outputs": [],
   "source": []
  }
 ],
 "metadata": {
  "kernelspec": {
   "display_name": "Python 3",
   "language": "python",
   "name": "python3"
  },
  "language_info": {
   "codemirror_mode": {
    "name": "ipython",
    "version": 3
   },
   "file_extension": ".py",
   "mimetype": "text/x-python",
   "name": "python",
   "nbconvert_exporter": "python",
   "pygments_lexer": "ipython3",
   "version": "3.6.0"
  }
 },
 "nbformat": 4,
 "nbformat_minor": 2
}
