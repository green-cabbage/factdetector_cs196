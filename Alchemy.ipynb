{
 "cells": [
  {
   "cell_type": "code",
   "execution_count": 3,
   "metadata": {
    "collapsed": false
   },
   "outputs": [],
   "source": [
    "import json\n",
    "from watson_developer_cloud import AlchemyLanguageV1\n",
    "\n",
    "alchemy_language = AlchemyLanguageV1(api_key='cb738b85c0e2d0094894bcfe8c73d12d73543c35')\n",
    "\n",
    "from urllib.request import urlopen\n",
    "import re"
   ]
  },
  {
   "cell_type": "code",
   "execution_count": 4,
   "metadata": {
    "collapsed": false
   },
   "outputs": [],
   "source": [
    "def targeted_document_analysis(url_input, target_words):\n",
    "    if (alchemy_language.targeted_sentiment(url=url_input, targets=target_words)[\"results\"][0]['sentiment']['type'])=='neutral':\n",
    "        return 0.0\n",
    "    else:\n",
    "        return (alchemy_language.targeted_sentiment(url=url_input, targets=target_words)[\"results\"][0]['sentiment']['score'])\n",
    "    pass"
   ]
  },
  {
   "cell_type": "code",
   "execution_count": 5,
   "metadata": {
    "collapsed": false
   },
   "outputs": [],
   "source": [
    "def document_sentiment(url_input):\n",
    "    if (alchemy_language.sentiment(url=url_input)['docSentiment']['score'])=='neutral':\n",
    "        return 0.0\n",
    "    else:\n",
    "        return(alchemy_language.sentiment(url=url_input)['docSentiment']['score'])"
   ]
  },
  {
   "cell_type": "code",
   "execution_count": 6,
   "metadata": {
    "collapsed": false
   },
   "outputs": [],
   "source": [
    "def targeted_sentence_analysis(text_input, target_words):\n",
    "    if (alchemy_language.targeted_sentiment(text=text_input, targets=target_words) [\"results\"][0]['sentiment']['type'])=='neutral':\n",
    "        return 0.0\n",
    "    else:\n",
    "        return(alchemy_language.targeted_sentiment(text=text_input, targets=target_words) [\"results\"][0]['sentiment']['score'])\n",
    "    pass"
   ]
  },
  {
   "cell_type": "code",
   "execution_count": 7,
   "metadata": {
    "collapsed": true
   },
   "outputs": [],
   "source": [
    "def sentence_sentiment(text_input):\n",
    "    if (alchemy_language.sentiment(text=text_input)['docSentiment']['type'])=='neutral':\n",
    "        return 0.0\n",
    "    else:\n",
    "        return(alchemy_language.sentiment(text=text_input)['docSentiment']['score'])"
   ]
  },
  {
   "cell_type": "code",
   "execution_count": 8,
   "metadata": {
    "collapsed": false
   },
   "outputs": [],
   "source": [
    "def listOfSentences (url,word):\n",
    "    HTMl = urllib.request.urlopen(url).read()\n",
    "    return re.findall(r\"([^>=]*?word[^.<]*\\.)\",HTML)"
   ]
  },
  {
   "cell_type": "code",
   "execution_count": 9,
   "metadata": {
    "collapsed": true
   },
   "outputs": [],
   "source": [
    "def compare_documents(array):\n",
    "    prev = document_sentiment(array[0])\n",
    "    for i in range (0,len(array)):\n",
    "        temp = document_sentiment(array[i])\n",
    "        if temp*prev<0:\n",
    "            break\n",
    "    if temp*prev<0:\n",
    "        return False\n",
    "    else:\n",
    "        return True"
   ]
  },
  {
   "cell_type": "code",
   "execution_count": 118,
   "metadata": {
    "collapsed": false
   },
   "outputs": [],
   "source": [
    "def compare_sentences(array):\n",
    "    prev = float(sentence_sentiment(array[0]))\n",
    "    for i in range (0,len(array)):\n",
    "        temp = float(sentence_sentiment(array[i]))\n",
    "        if temp+prev<0:\n",
    "            break\n",
    "    if temp+prev<0:\n",
    "        return False\n",
    "    else:\n",
    "        return True"
   ]
  },
  {
   "cell_type": "code",
   "execution_count": 119,
   "metadata": {
    "collapsed": false
   },
   "outputs": [],
   "source": [
    "def emotion_analysis(urlInput):\n",
    "    return alchemy_language.emotion(url=urlInput)['docEmotions']"
   ]
  },
  {
   "cell_type": "code",
   "execution_count": 202,
   "metadata": {
    "collapsed": false
   },
   "outputs": [],
   "source": [
    "def compare_similar_sentences(subsequence ):\n",
    "    retArray=[]\n",
    "    retArray.append([])\n",
    "    retArray.append([])\n",
    "    #print (retArray)\n",
    "    prev = float(sentence_sentiment(subsequence[0]))\n",
    "    for i in range (1,len(subsequence)):\n",
    "        temp = float(sentence_sentiment(subsequence[i]))\n",
    "        \n",
    "        if temp*prev <= 0:\n",
    "            #print(\"Flip Flopped\")\n",
    "            retArray[0].append(subsequence[i])\n",
    "        else:\n",
    "            #print(\"Didn't Flop Flop\")\n",
    "            retArray[1].append(subsequence[i])\n",
    "\n",
    "\n",
    "    return retArray\n",
    "#   Look through the stence array\n",
    "#   put all the words in sentence into a dicitonary\n",
    "#\n",
    "#\n",
    "#\n",
    "def dumbWord(word):\n",
    "    dumbWords= [\"and\", \"or\", \"but\", \"nor\", \"so\", \"for\", \"yet\", \"after\", \"although\", \\\n",
    "    \"as\", \"as\", \"if\", \"as\", \"long\", \"as\", \"because\", \"before\", \"even\", \"if\", \"even\", \\\n",
    "    \"though\", \"once\", \"since\", \"so\", \"that\", \"though\", \"till\", \"unless\", \"until\", \"what\", \\\n",
    "    \"when\", \"whenever\", \"wherever\", \"whether\", \"while\"]\n",
    "\n",
    "    if (word.lower() in dumbWords):\n",
    "        return True\n",
    "\n",
    "    return False\n",
    "\n",
    "THRESHOLD = 3\n",
    "MIN_WORDS = 3\n",
    "SIMILARITY = .6\n",
    "\n",
    "\n",
    "\n",
    "def mostSimilarTo(sentence, sentenceArray):\n",
    "    similarSentences = []\n",
    "    sentenceDict = {}\n",
    "    notDumbWords=0\n",
    "    for word in sentence.split():\n",
    "        #print (word)\n",
    "        word = word.lower()\n",
    "        if not dumbWord(word):\n",
    "            notDumbWords += 1\n",
    "            if word not in sentenceDict:\n",
    "                sentenceDict[word]=1\n",
    "            else:    \n",
    "                sentenceDict[word] += 1\n",
    "               \n",
    "    \n",
    "\n",
    "    for potentialSentence in sentenceArray:\n",
    "        sameWords=0\n",
    "        wordCount =0\n",
    "        if potentialSentence != sentence:\n",
    "            \n",
    "            for word in potentialSentence.split() :\n",
    "                word = word.lower()\n",
    "                if not dumbWord(word):\n",
    "                    wordCount+=1\n",
    "                    if word  in sentenceDict:\n",
    "                        sameWords+=1\n",
    "\n",
    "       # print (sameWords)\n",
    "        #print (wordCount)\n",
    "        if(wordCount!=0):\n",
    "            if sameWords >=MIN_WORDS:\n",
    "                similarSentences.append(potentialSentence)\n",
    "\n",
    "    return similarSentences\n",
    "\n",
    "\n",
    "def flipFlopped(sentenceArray):\n",
    "    retArr=[]\n",
    "    for sentence in sentenceArray:\n",
    "        #print (sentence)\n",
    "        if len(sentence.split()) >= MIN_WORDS :\n",
    "            \n",
    "            retSentenceArray = mostSimilarTo(sentence, sentenceArray)\n",
    "            \n",
    "            if(  len(retSentenceArray) != 0):\n",
    "               \n",
    "                retSentenceArray.insert(0, sentence)\n",
    "                #print(retSentenceArray)\n",
    "                retStatus = compare_similar_sentences(retSentenceArray)\n",
    "                retArr.append(sentence)\n",
    "                retArr.append(retStatus)\n",
    "            \n",
    "    return retArr"
   ]
  },
  {
   "cell_type": "code",
   "execution_count": 203,
   "metadata": {
    "collapsed": false
   },
   "outputs": [
    {
     "ename": "WatsonException",
     "evalue": "Error: daily-transaction-limit-exceeded",
     "output_type": "error",
     "traceback": [
      "\u001b[0;31m---------------------------------------------------------------------------\u001b[0m",
      "\u001b[0;31mWatsonException\u001b[0m                           Traceback (most recent call last)",
      "\u001b[0;32m<ipython-input-203-3391fc3b16f1>\u001b[0m in \u001b[0;36m<module>\u001b[0;34m()\u001b[0m\n\u001b[1;32m      2\u001b[0m              \u001b[0;34m'non no no yes hello hi there'\u001b[0m\u001b[0;34m,\u001b[0m \u001b[0;34m'These are not different and cool'\u001b[0m\u001b[0;34m,\u001b[0m \u001b[0;34m'these  are different and cool'\u001b[0m\u001b[0;34m,\u001b[0m\u001b[0;34m\u001b[0m\u001b[0m\n\u001b[1;32m      3\u001b[0m              \u001b[0;34m'I love war war is okay war is fun'\u001b[0m\u001b[0;34m,\u001b[0m\u001b[0;34m\u001b[0m\u001b[0m\n\u001b[0;32m----> 4\u001b[0;31m              'War sounds good is good great war'])\n\u001b[0m\u001b[1;32m      5\u001b[0m \u001b[0;34m\u001b[0m\u001b[0m\n\u001b[1;32m      6\u001b[0m \u001b[0;34m\u001b[0m\u001b[0m\n",
      "\u001b[0;32m<ipython-input-202-0d7b8a83045f>\u001b[0m in \u001b[0;36mflipFlopped\u001b[0;34m(sentenceArray)\u001b[0m\n\u001b[1;32m     85\u001b[0m                 \u001b[0mretSentenceArray\u001b[0m\u001b[0;34m.\u001b[0m\u001b[0minsert\u001b[0m\u001b[0;34m(\u001b[0m\u001b[0;36m0\u001b[0m\u001b[0;34m,\u001b[0m \u001b[0msentence\u001b[0m\u001b[0;34m)\u001b[0m\u001b[0;34m\u001b[0m\u001b[0m\n\u001b[1;32m     86\u001b[0m                 \u001b[0;31m#print(retSentenceArray)\u001b[0m\u001b[0;34m\u001b[0m\u001b[0;34m\u001b[0m\u001b[0m\n\u001b[0;32m---> 87\u001b[0;31m                 \u001b[0mretStatus\u001b[0m \u001b[0;34m=\u001b[0m \u001b[0mcompare_similar_sentences\u001b[0m\u001b[0;34m(\u001b[0m\u001b[0mretSentenceArray\u001b[0m\u001b[0;34m)\u001b[0m\u001b[0;34m\u001b[0m\u001b[0m\n\u001b[0m\u001b[1;32m     88\u001b[0m                 \u001b[0mretArr\u001b[0m\u001b[0;34m.\u001b[0m\u001b[0mappend\u001b[0m\u001b[0;34m(\u001b[0m\u001b[0msentence\u001b[0m\u001b[0;34m)\u001b[0m\u001b[0;34m\u001b[0m\u001b[0m\n\u001b[1;32m     89\u001b[0m                 \u001b[0mretArr\u001b[0m\u001b[0;34m.\u001b[0m\u001b[0mappend\u001b[0m\u001b[0;34m(\u001b[0m\u001b[0mretStatus\u001b[0m\u001b[0;34m)\u001b[0m\u001b[0;34m\u001b[0m\u001b[0m\n",
      "\u001b[0;32m<ipython-input-202-0d7b8a83045f>\u001b[0m in \u001b[0;36mcompare_similar_sentences\u001b[0;34m(subsequence)\u001b[0m\n\u001b[1;32m      4\u001b[0m     \u001b[0mretArray\u001b[0m\u001b[0;34m.\u001b[0m\u001b[0mappend\u001b[0m\u001b[0;34m(\u001b[0m\u001b[0;34m[\u001b[0m\u001b[0;34m]\u001b[0m\u001b[0;34m)\u001b[0m\u001b[0;34m\u001b[0m\u001b[0m\n\u001b[1;32m      5\u001b[0m     \u001b[0;31m#print (retArray)\u001b[0m\u001b[0;34m\u001b[0m\u001b[0;34m\u001b[0m\u001b[0m\n\u001b[0;32m----> 6\u001b[0;31m     \u001b[0mprev\u001b[0m \u001b[0;34m=\u001b[0m \u001b[0mfloat\u001b[0m\u001b[0;34m(\u001b[0m\u001b[0msentence_sentiment\u001b[0m\u001b[0;34m(\u001b[0m\u001b[0msubsequence\u001b[0m\u001b[0;34m[\u001b[0m\u001b[0;36m0\u001b[0m\u001b[0;34m]\u001b[0m\u001b[0;34m)\u001b[0m\u001b[0;34m)\u001b[0m\u001b[0;34m\u001b[0m\u001b[0m\n\u001b[0m\u001b[1;32m      7\u001b[0m     \u001b[0;32mfor\u001b[0m \u001b[0mi\u001b[0m \u001b[0;32min\u001b[0m \u001b[0mrange\u001b[0m \u001b[0;34m(\u001b[0m\u001b[0;36m1\u001b[0m\u001b[0;34m,\u001b[0m\u001b[0mlen\u001b[0m\u001b[0;34m(\u001b[0m\u001b[0msubsequence\u001b[0m\u001b[0;34m)\u001b[0m\u001b[0;34m)\u001b[0m\u001b[0;34m:\u001b[0m\u001b[0;34m\u001b[0m\u001b[0m\n\u001b[1;32m      8\u001b[0m         \u001b[0mtemp\u001b[0m \u001b[0;34m=\u001b[0m \u001b[0mfloat\u001b[0m\u001b[0;34m(\u001b[0m\u001b[0msentence_sentiment\u001b[0m\u001b[0;34m(\u001b[0m\u001b[0msubsequence\u001b[0m\u001b[0;34m[\u001b[0m\u001b[0mi\u001b[0m\u001b[0;34m]\u001b[0m\u001b[0;34m)\u001b[0m\u001b[0;34m)\u001b[0m\u001b[0;34m\u001b[0m\u001b[0m\n",
      "\u001b[0;32m<ipython-input-7-48ff51d31e14>\u001b[0m in \u001b[0;36msentence_sentiment\u001b[0;34m(text_input)\u001b[0m\n\u001b[1;32m      1\u001b[0m \u001b[0;32mdef\u001b[0m \u001b[0msentence_sentiment\u001b[0m\u001b[0;34m(\u001b[0m\u001b[0mtext_input\u001b[0m\u001b[0;34m)\u001b[0m\u001b[0;34m:\u001b[0m\u001b[0;34m\u001b[0m\u001b[0m\n\u001b[0;32m----> 2\u001b[0;31m     \u001b[0;32mif\u001b[0m \u001b[0;34m(\u001b[0m\u001b[0malchemy_language\u001b[0m\u001b[0;34m.\u001b[0m\u001b[0msentiment\u001b[0m\u001b[0;34m(\u001b[0m\u001b[0mtext\u001b[0m\u001b[0;34m=\u001b[0m\u001b[0mtext_input\u001b[0m\u001b[0;34m)\u001b[0m\u001b[0;34m[\u001b[0m\u001b[0;34m'docSentiment'\u001b[0m\u001b[0;34m]\u001b[0m\u001b[0;34m[\u001b[0m\u001b[0;34m'type'\u001b[0m\u001b[0;34m]\u001b[0m\u001b[0;34m)\u001b[0m\u001b[0;34m==\u001b[0m\u001b[0;34m'neutral'\u001b[0m\u001b[0;34m:\u001b[0m\u001b[0;34m\u001b[0m\u001b[0m\n\u001b[0m\u001b[1;32m      3\u001b[0m         \u001b[0;32mreturn\u001b[0m \u001b[0;36m0.0\u001b[0m\u001b[0;34m\u001b[0m\u001b[0m\n\u001b[1;32m      4\u001b[0m     \u001b[0;32melse\u001b[0m\u001b[0;34m:\u001b[0m\u001b[0;34m\u001b[0m\u001b[0m\n\u001b[1;32m      5\u001b[0m         \u001b[0;32mreturn\u001b[0m\u001b[0;34m(\u001b[0m\u001b[0malchemy_language\u001b[0m\u001b[0;34m.\u001b[0m\u001b[0msentiment\u001b[0m\u001b[0;34m(\u001b[0m\u001b[0mtext\u001b[0m\u001b[0;34m=\u001b[0m\u001b[0mtext_input\u001b[0m\u001b[0;34m)\u001b[0m\u001b[0;34m[\u001b[0m\u001b[0;34m'docSentiment'\u001b[0m\u001b[0;34m]\u001b[0m\u001b[0;34m[\u001b[0m\u001b[0;34m'score'\u001b[0m\u001b[0;34m]\u001b[0m\u001b[0;34m)\u001b[0m\u001b[0;34m\u001b[0m\u001b[0m\n",
      "\u001b[0;32m//anaconda/lib/python3.6/site-packages/watson_developer_cloud/alchemy_language_v1.py\u001b[0m in \u001b[0;36msentiment\u001b[0;34m(self, html, text, url, language)\u001b[0m\n\u001b[1;32m    304\u001b[0m         \u001b[0mparams\u001b[0m \u001b[0;34m=\u001b[0m \u001b[0;34m{\u001b[0m\u001b[0;34m'language'\u001b[0m\u001b[0;34m:\u001b[0m \u001b[0mlanguage\u001b[0m\u001b[0;34m}\u001b[0m\u001b[0;34m\u001b[0m\u001b[0m\n\u001b[1;32m    305\u001b[0m         return self._alchemy_html_request('GetTextSentiment', html=html,\n\u001b[0;32m--> 306\u001b[0;31m                                           text=text, url=url, params=params)\n\u001b[0m\u001b[1;32m    307\u001b[0m \u001b[0;34m\u001b[0m\u001b[0m\n\u001b[1;32m    308\u001b[0m     def targeted_sentiment(self, targets, html=None, text=None, url=None,\n",
      "\u001b[0;32m//anaconda/lib/python3.6/site-packages/watson_developer_cloud/watson_developer_cloud_service.py\u001b[0m in \u001b[0;36m_alchemy_html_request\u001b[0;34m(self, method_name, url, html, text, params, method, method_url)\u001b[0m\n\u001b[1;32m    225\u001b[0m         return self.request(method=method, url=method_url, params=params,\n\u001b[1;32m    226\u001b[0m                             \u001b[0mdata\u001b[0m\u001b[0;34m=\u001b[0m\u001b[0murl_encoded_params\u001b[0m\u001b[0;34m,\u001b[0m \u001b[0mheaders\u001b[0m\u001b[0;34m=\u001b[0m\u001b[0mheaders\u001b[0m\u001b[0;34m,\u001b[0m\u001b[0;34m\u001b[0m\u001b[0m\n\u001b[0;32m--> 227\u001b[0;31m                             accept_json=True)\n\u001b[0m\u001b[1;32m    228\u001b[0m \u001b[0;34m\u001b[0m\u001b[0m\n\u001b[1;32m    229\u001b[0m     def _alchemy_image_request(self, method_name, image_file=None,\n",
      "\u001b[0;32m//anaconda/lib/python3.6/site-packages/watson_developer_cloud/watson_developer_cloud_service.py\u001b[0m in \u001b[0;36mrequest\u001b[0;34m(self, method, url, accept_json, headers, params, json, data, files, **kwargs)\u001b[0m\n\u001b[1;32m    309\u001b[0m                     \u001b[0;32mif\u001b[0m \u001b[0merror_message\u001b[0m \u001b[0;34m==\u001b[0m \u001b[0;34m'invalid-api-key'\u001b[0m\u001b[0;34m:\u001b[0m\u001b[0;34m\u001b[0m\u001b[0m\n\u001b[1;32m    310\u001b[0m                         \u001b[0mresponse\u001b[0m\u001b[0;34m.\u001b[0m\u001b[0mstatus_code\u001b[0m \u001b[0;34m=\u001b[0m \u001b[0;36m401\u001b[0m\u001b[0;34m\u001b[0m\u001b[0m\n\u001b[0;32m--> 311\u001b[0;31m                     \u001b[0;32mraise\u001b[0m \u001b[0mWatsonException\u001b[0m\u001b[0;34m(\u001b[0m\u001b[0;34m'Error: '\u001b[0m \u001b[0;34m+\u001b[0m \u001b[0merror_message\u001b[0m\u001b[0;34m)\u001b[0m\u001b[0;34m\u001b[0m\u001b[0m\n\u001b[0m\u001b[1;32m    312\u001b[0m                 \u001b[0;32mreturn\u001b[0m \u001b[0mresponse_json\u001b[0m\u001b[0;34m\u001b[0m\u001b[0m\n\u001b[1;32m    313\u001b[0m             \u001b[0;32mreturn\u001b[0m \u001b[0mresponse\u001b[0m\u001b[0;34m\u001b[0m\u001b[0m\n",
      "\u001b[0;31mWatsonException\u001b[0m: Error: daily-transaction-limit-exceeded"
     ]
    }
   ],
   "source": [
    "flipFlopped(['I hate war war is bad war is not good',\n",
    "             'non no no yes hello hi there', 'These are not different and cool', 'these  are different and cool',\n",
    "             'I love war war is okay war is fun', \n",
    "             'War sounds good is good great war'])\n",
    "\n",
    "\n",
    "flipFlopped(['The sky is blue today', 'the sky is green today'])\n",
    "\n",
    "\n",
    "\n",
    "\n",
    "\n"
   ]
  },
  {
   "cell_type": "code",
   "execution_count": 201,
   "metadata": {
    "collapsed": false
   },
   "outputs": [
    {
     "name": "stdout",
     "output_type": "stream",
     "text": [
      "['As promised, I directed the Department of Defense to develop a plan to demolish and destroy ISIS -- a network of lawless savages that have slaughtered Muslims and Christians, and men, and women, and children of all faiths and all beliefs', 'We will work with our allies, including our friends and allies in the Muslim world, to extinguish this vile enemy from our planet', '(Applause', \"\\n\\nI have also imposed new sanctions on entities and individuals who support Iran's ballistic missile program, and reaffirmed our unbreakable alliance with the State of Israel\", '(Applause', '\\n\\nFinally, I have kept my promise to appoint a justice to the United States Supreme Court, from my list of 20 judges, who will defend our Constitution', '(Applause', '\\n\\nI am greatly honored to have Maureen Scalia with us in the gallery tonight', '(Applause', 'Thank you, Maureen', 'Her late, great husband, Antonin Scalia, will forever be a symbol of American justice', 'To fill his seat, we have chosen Judge Neil Gorsuch, a man of incredible skill and deep devotion to the law', 'He was confirmed unanimously by the Court of Appeals, and I am asking the Senate to swiftly approve his nomination', '(Applause', '\\n\\nTonight, as I outline the next steps we must take as a country, we must honestly acknowledge the circumstances we inherited', 'Ninety-four million Americans are out of the labor force', 'Over 43 million people are now living in poverty, and over 43 million Americans are on food stamps', 'More than one in five people in their prime working years are not working', 'We have the worst financial recovery in 65 years', 'In the last eight years, the past administration has put on more new debt than nearly all of the other Presidents combined', '\\nnce more, in America', '\\n\\nThank you, God bless you, and God bless the United States', '(Applause', '']\n"
     ]
    },
    {
     "ename": "WatsonException",
     "evalue": "Error: daily-transaction-limit-exceeded",
     "output_type": "error",
     "traceback": [
      "\u001b[0;31m---------------------------------------------------------------------------\u001b[0m",
      "\u001b[0;31mWatsonException\u001b[0m                           Traceback (most recent call last)",
      "\u001b[0;32m<ipython-input-201-bf2e0370047e>\u001b[0m in \u001b[0;36m<module>\u001b[0;34m()\u001b[0m\n\u001b[1;32m     36\u001b[0m     \u001b[0;31m# print retArray\u001b[0m\u001b[0;34m\u001b[0m\u001b[0;34m\u001b[0m\u001b[0m\n\u001b[1;32m     37\u001b[0m \u001b[0;34m\u001b[0m\u001b[0m\n\u001b[0;32m---> 38\u001b[0;31m \u001b[0mfileio\u001b[0m\u001b[0;34m(\u001b[0m\u001b[0;34m\"test2.txt\"\u001b[0m\u001b[0;34m)\u001b[0m\u001b[0;34m\u001b[0m\u001b[0m\n\u001b[0m",
      "\u001b[0;32m<ipython-input-201-bf2e0370047e>\u001b[0m in \u001b[0;36mfileio\u001b[0;34m(filename)\u001b[0m\n\u001b[1;32m      9\u001b[0m \u001b[0;34m\u001b[0m\u001b[0m\n\u001b[1;32m     10\u001b[0m     \u001b[0mprint\u001b[0m \u001b[0;34m(\u001b[0m\u001b[0msentences\u001b[0m\u001b[0;34m)\u001b[0m\u001b[0;34m\u001b[0m\u001b[0m\n\u001b[0;32m---> 11\u001b[0;31m     \u001b[0mretArray\u001b[0m \u001b[0;34m=\u001b[0m \u001b[0mflipFlopped\u001b[0m\u001b[0;34m(\u001b[0m\u001b[0msentences\u001b[0m\u001b[0;34m)\u001b[0m\u001b[0;34m\u001b[0m\u001b[0m\n\u001b[0m\u001b[1;32m     12\u001b[0m \u001b[0;34m\u001b[0m\u001b[0m\n\u001b[1;32m     13\u001b[0m     \u001b[0mprint\u001b[0m \u001b[0;34m(\u001b[0m\u001b[0mretArray\u001b[0m\u001b[0;34m)\u001b[0m\u001b[0;34m\u001b[0m\u001b[0m\n",
      "\u001b[0;32m<ipython-input-195-3f385afd66c8>\u001b[0m in \u001b[0;36mflipFlopped\u001b[0;34m(sentenceArray)\u001b[0m\n\u001b[1;32m     85\u001b[0m                 \u001b[0mretSentenceArray\u001b[0m\u001b[0;34m.\u001b[0m\u001b[0minsert\u001b[0m\u001b[0;34m(\u001b[0m\u001b[0;36m0\u001b[0m\u001b[0;34m,\u001b[0m \u001b[0msentence\u001b[0m\u001b[0;34m)\u001b[0m\u001b[0;34m\u001b[0m\u001b[0m\n\u001b[1;32m     86\u001b[0m                 \u001b[0;31m#print(retSentenceArray)\u001b[0m\u001b[0;34m\u001b[0m\u001b[0;34m\u001b[0m\u001b[0m\n\u001b[0;32m---> 87\u001b[0;31m                 \u001b[0mretStatus\u001b[0m \u001b[0;34m=\u001b[0m \u001b[0mcompare_similar_sentences\u001b[0m\u001b[0;34m(\u001b[0m\u001b[0mretSentenceArray\u001b[0m\u001b[0;34m)\u001b[0m\u001b[0;34m\u001b[0m\u001b[0m\n\u001b[0m\u001b[1;32m     88\u001b[0m \u001b[0;34m\u001b[0m\u001b[0m\n\u001b[1;32m     89\u001b[0m                 \u001b[0mretArr\u001b[0m\u001b[0;34m.\u001b[0m\u001b[0mappend\u001b[0m\u001b[0;34m(\u001b[0m\u001b[0mretStatus\u001b[0m\u001b[0;34m)\u001b[0m\u001b[0;34m\u001b[0m\u001b[0m\n",
      "\u001b[0;32m<ipython-input-195-3f385afd66c8>\u001b[0m in \u001b[0;36mcompare_similar_sentences\u001b[0;34m(subsequence)\u001b[0m\n\u001b[1;32m      4\u001b[0m     \u001b[0mretArray\u001b[0m\u001b[0;34m.\u001b[0m\u001b[0mappend\u001b[0m\u001b[0;34m(\u001b[0m\u001b[0;34m[\u001b[0m\u001b[0;34m]\u001b[0m\u001b[0;34m)\u001b[0m\u001b[0;34m\u001b[0m\u001b[0m\n\u001b[1;32m      5\u001b[0m     \u001b[0;31m#print (retArray)\u001b[0m\u001b[0;34m\u001b[0m\u001b[0;34m\u001b[0m\u001b[0m\n\u001b[0;32m----> 6\u001b[0;31m     \u001b[0mprev\u001b[0m \u001b[0;34m=\u001b[0m \u001b[0mfloat\u001b[0m\u001b[0;34m(\u001b[0m\u001b[0msentence_sentiment\u001b[0m\u001b[0;34m(\u001b[0m\u001b[0msubsequence\u001b[0m\u001b[0;34m[\u001b[0m\u001b[0;36m0\u001b[0m\u001b[0;34m]\u001b[0m\u001b[0;34m)\u001b[0m\u001b[0;34m)\u001b[0m\u001b[0;34m\u001b[0m\u001b[0m\n\u001b[0m\u001b[1;32m      7\u001b[0m     \u001b[0;32mfor\u001b[0m \u001b[0mi\u001b[0m \u001b[0;32min\u001b[0m \u001b[0mrange\u001b[0m \u001b[0;34m(\u001b[0m\u001b[0;36m1\u001b[0m\u001b[0;34m,\u001b[0m\u001b[0mlen\u001b[0m\u001b[0;34m(\u001b[0m\u001b[0msubsequence\u001b[0m\u001b[0;34m)\u001b[0m\u001b[0;34m)\u001b[0m\u001b[0;34m:\u001b[0m\u001b[0;34m\u001b[0m\u001b[0m\n\u001b[1;32m      8\u001b[0m         \u001b[0mtemp\u001b[0m \u001b[0;34m=\u001b[0m \u001b[0mfloat\u001b[0m\u001b[0;34m(\u001b[0m\u001b[0msentence_sentiment\u001b[0m\u001b[0;34m(\u001b[0m\u001b[0msubsequence\u001b[0m\u001b[0;34m[\u001b[0m\u001b[0mi\u001b[0m\u001b[0;34m]\u001b[0m\u001b[0;34m)\u001b[0m\u001b[0;34m)\u001b[0m\u001b[0;34m\u001b[0m\u001b[0m\n",
      "\u001b[0;32m<ipython-input-7-48ff51d31e14>\u001b[0m in \u001b[0;36msentence_sentiment\u001b[0;34m(text_input)\u001b[0m\n\u001b[1;32m      1\u001b[0m \u001b[0;32mdef\u001b[0m \u001b[0msentence_sentiment\u001b[0m\u001b[0;34m(\u001b[0m\u001b[0mtext_input\u001b[0m\u001b[0;34m)\u001b[0m\u001b[0;34m:\u001b[0m\u001b[0;34m\u001b[0m\u001b[0m\n\u001b[0;32m----> 2\u001b[0;31m     \u001b[0;32mif\u001b[0m \u001b[0;34m(\u001b[0m\u001b[0malchemy_language\u001b[0m\u001b[0;34m.\u001b[0m\u001b[0msentiment\u001b[0m\u001b[0;34m(\u001b[0m\u001b[0mtext\u001b[0m\u001b[0;34m=\u001b[0m\u001b[0mtext_input\u001b[0m\u001b[0;34m)\u001b[0m\u001b[0;34m[\u001b[0m\u001b[0;34m'docSentiment'\u001b[0m\u001b[0;34m]\u001b[0m\u001b[0;34m[\u001b[0m\u001b[0;34m'type'\u001b[0m\u001b[0;34m]\u001b[0m\u001b[0;34m)\u001b[0m\u001b[0;34m==\u001b[0m\u001b[0;34m'neutral'\u001b[0m\u001b[0;34m:\u001b[0m\u001b[0;34m\u001b[0m\u001b[0m\n\u001b[0m\u001b[1;32m      3\u001b[0m         \u001b[0;32mreturn\u001b[0m \u001b[0;36m0.0\u001b[0m\u001b[0;34m\u001b[0m\u001b[0m\n\u001b[1;32m      4\u001b[0m     \u001b[0;32melse\u001b[0m\u001b[0;34m:\u001b[0m\u001b[0;34m\u001b[0m\u001b[0m\n\u001b[1;32m      5\u001b[0m         \u001b[0;32mreturn\u001b[0m\u001b[0;34m(\u001b[0m\u001b[0malchemy_language\u001b[0m\u001b[0;34m.\u001b[0m\u001b[0msentiment\u001b[0m\u001b[0;34m(\u001b[0m\u001b[0mtext\u001b[0m\u001b[0;34m=\u001b[0m\u001b[0mtext_input\u001b[0m\u001b[0;34m)\u001b[0m\u001b[0;34m[\u001b[0m\u001b[0;34m'docSentiment'\u001b[0m\u001b[0;34m]\u001b[0m\u001b[0;34m[\u001b[0m\u001b[0;34m'score'\u001b[0m\u001b[0;34m]\u001b[0m\u001b[0;34m)\u001b[0m\u001b[0;34m\u001b[0m\u001b[0m\n",
      "\u001b[0;32m//anaconda/lib/python3.6/site-packages/watson_developer_cloud/alchemy_language_v1.py\u001b[0m in \u001b[0;36msentiment\u001b[0;34m(self, html, text, url, language)\u001b[0m\n\u001b[1;32m    304\u001b[0m         \u001b[0mparams\u001b[0m \u001b[0;34m=\u001b[0m \u001b[0;34m{\u001b[0m\u001b[0;34m'language'\u001b[0m\u001b[0;34m:\u001b[0m \u001b[0mlanguage\u001b[0m\u001b[0;34m}\u001b[0m\u001b[0;34m\u001b[0m\u001b[0m\n\u001b[1;32m    305\u001b[0m         return self._alchemy_html_request('GetTextSentiment', html=html,\n\u001b[0;32m--> 306\u001b[0;31m                                           text=text, url=url, params=params)\n\u001b[0m\u001b[1;32m    307\u001b[0m \u001b[0;34m\u001b[0m\u001b[0m\n\u001b[1;32m    308\u001b[0m     def targeted_sentiment(self, targets, html=None, text=None, url=None,\n",
      "\u001b[0;32m//anaconda/lib/python3.6/site-packages/watson_developer_cloud/watson_developer_cloud_service.py\u001b[0m in \u001b[0;36m_alchemy_html_request\u001b[0;34m(self, method_name, url, html, text, params, method, method_url)\u001b[0m\n\u001b[1;32m    225\u001b[0m         return self.request(method=method, url=method_url, params=params,\n\u001b[1;32m    226\u001b[0m                             \u001b[0mdata\u001b[0m\u001b[0;34m=\u001b[0m\u001b[0murl_encoded_params\u001b[0m\u001b[0;34m,\u001b[0m \u001b[0mheaders\u001b[0m\u001b[0;34m=\u001b[0m\u001b[0mheaders\u001b[0m\u001b[0;34m,\u001b[0m\u001b[0;34m\u001b[0m\u001b[0m\n\u001b[0;32m--> 227\u001b[0;31m                             accept_json=True)\n\u001b[0m\u001b[1;32m    228\u001b[0m \u001b[0;34m\u001b[0m\u001b[0m\n\u001b[1;32m    229\u001b[0m     def _alchemy_image_request(self, method_name, image_file=None,\n",
      "\u001b[0;32m//anaconda/lib/python3.6/site-packages/watson_developer_cloud/watson_developer_cloud_service.py\u001b[0m in \u001b[0;36mrequest\u001b[0;34m(self, method, url, accept_json, headers, params, json, data, files, **kwargs)\u001b[0m\n\u001b[1;32m    309\u001b[0m                     \u001b[0;32mif\u001b[0m \u001b[0merror_message\u001b[0m \u001b[0;34m==\u001b[0m \u001b[0;34m'invalid-api-key'\u001b[0m\u001b[0;34m:\u001b[0m\u001b[0;34m\u001b[0m\u001b[0m\n\u001b[1;32m    310\u001b[0m                         \u001b[0mresponse\u001b[0m\u001b[0;34m.\u001b[0m\u001b[0mstatus_code\u001b[0m \u001b[0;34m=\u001b[0m \u001b[0;36m401\u001b[0m\u001b[0;34m\u001b[0m\u001b[0m\n\u001b[0;32m--> 311\u001b[0;31m                     \u001b[0;32mraise\u001b[0m \u001b[0mWatsonException\u001b[0m\u001b[0;34m(\u001b[0m\u001b[0;34m'Error: '\u001b[0m \u001b[0;34m+\u001b[0m \u001b[0merror_message\u001b[0m\u001b[0;34m)\u001b[0m\u001b[0;34m\u001b[0m\u001b[0m\n\u001b[0m\u001b[1;32m    312\u001b[0m                 \u001b[0;32mreturn\u001b[0m \u001b[0mresponse_json\u001b[0m\u001b[0;34m\u001b[0m\u001b[0m\n\u001b[1;32m    313\u001b[0m             \u001b[0;32mreturn\u001b[0m \u001b[0mresponse\u001b[0m\u001b[0;34m\u001b[0m\u001b[0m\n",
      "\u001b[0;31mWatsonException\u001b[0m: Error: daily-transaction-limit-exceeded"
     ]
    }
   ],
   "source": [
    "import re\n",
    "\n",
    "def fileio( filename ):\n",
    "    text= None\n",
    "    with open(filename) as file:\n",
    "        text=file.read()\n",
    "\n",
    "    sentences = re.split(r' *[\\.\\?!][\\'\"\\)\\]]* *', text)\n",
    "\n",
    "    print (sentences)\n",
    "    retArray = flipFlopped(sentences)\n",
    "    \n",
    "    print (retArray)\n",
    "    for sentence in retArray:\n",
    "        print (\"Original sentence:\", end=\" \")\n",
    "        print (sentence)\n",
    "        print (\"List of Flipflops: \",end=\"\") \n",
    "        print (sentence[0])\n",
    "        print (\"List of Consitent statements: \",end=\"\") \n",
    "        print (sentence[1])\n",
    "        print ('\\n')\n",
    "\n",
    "    \n",
    "    \n",
    "\n",
    "\n",
    "def stdio( filename ):\n",
    "    return\n",
    "\n",
    "    # open the file\n",
    "    # put it into a list of setneces \n",
    "\n",
    "    # retArray = flipFlopped(sentenceArray)\n",
    "\n",
    "\n",
    "    # print retArray\n",
    "\n",
    "fileio(\"test2.txt\")"
   ]
  },
  {
   "cell_type": "code",
   "execution_count": null,
   "metadata": {
    "collapsed": true
   },
   "outputs": [],
   "source": []
  }
 ],
 "metadata": {
  "kernelspec": {
   "display_name": "Python 3",
   "language": "python",
   "name": "python3"
  },
  "language_info": {
   "codemirror_mode": {
    "name": "ipython",
    "version": 3
   },
   "file_extension": ".py",
   "mimetype": "text/x-python",
   "name": "python",
   "nbconvert_exporter": "python",
   "pygments_lexer": "ipython3",
   "version": "3.6.0"
  }
 },
 "nbformat": 4,
 "nbformat_minor": 2
}
